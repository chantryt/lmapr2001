{
 "cells": [
  {
   "cell_type": "markdown",
   "metadata": {},
   "source": [
    "# TASK 4  \n",
    "#### Download file \"symmetrized\", format \".cif\" from \"https://materialsproject.org/materials/mp-1522/#\""
   ]
  },
  {
   "cell_type": "code",
   "execution_count": 1,
   "metadata": {
    "scrolled": true
   },
   "outputs": [
    {
     "ename": "ModuleNotFoundError",
     "evalue": "No module named 'pymatgen'",
     "output_type": "error",
     "traceback": [
      "\u001B[1;31m---------------------------------------------------------------------------\u001B[0m",
      "\u001B[1;31mModuleNotFoundError\u001B[0m                       Traceback (most recent call last)",
      "\u001B[1;32m<ipython-input-1-8d790926a5b2>\u001B[0m in \u001B[0;36m<module>\u001B[1;34m\u001B[0m\n\u001B[1;32m----> 1\u001B[1;33m \u001B[1;32mfrom\u001B[0m \u001B[0mpymatgen\u001B[0m\u001B[1;33m.\u001B[0m\u001B[0mext\u001B[0m\u001B[1;33m.\u001B[0m\u001B[0mmatproj\u001B[0m \u001B[1;32mimport\u001B[0m \u001B[0mMPRester\u001B[0m\u001B[1;33m\u001B[0m\u001B[1;33m\u001B[0m\u001B[0m\n\u001B[0m\u001B[0;32m      2\u001B[0m \u001B[1;32mfrom\u001B[0m \u001B[0mpymatgen\u001B[0m\u001B[1;33m.\u001B[0m\u001B[0mio\u001B[0m\u001B[1;33m.\u001B[0m\u001B[0mcif\u001B[0m \u001B[1;32mimport\u001B[0m \u001B[0mCifWriter\u001B[0m\u001B[1;33m\u001B[0m\u001B[1;33m\u001B[0m\u001B[0m\n\u001B[0;32m      3\u001B[0m \u001B[1;32mwith\u001B[0m \u001B[0mMPRester\u001B[0m\u001B[1;33m(\u001B[0m\u001B[1;34m\"qvpGTiKsbIZNh5es0g\"\u001B[0m\u001B[1;33m)\u001B[0m \u001B[1;32mas\u001B[0m \u001B[0mm\u001B[0m\u001B[1;33m:\u001B[0m\u001B[1;33m\u001B[0m\u001B[1;33m\u001B[0m\u001B[0m\n\u001B[0;32m      4\u001B[0m     \u001B[1;31m# Get information on material structure using the  \"Material Project\" id \"mp-1522\"\u001B[0m\u001B[1;33m\u001B[0m\u001B[1;33m\u001B[0m\u001B[1;33m\u001B[0m\u001B[0m\n\u001B[0;32m      5\u001B[0m     \u001B[0mstructure\u001B[0m \u001B[1;33m=\u001B[0m \u001B[0mm\u001B[0m\u001B[1;33m.\u001B[0m\u001B[0mget_structure_by_material_id\u001B[0m\u001B[1;33m(\u001B[0m\u001B[1;34m\"mp-1522\"\u001B[0m\u001B[1;33m)\u001B[0m\u001B[1;33m\u001B[0m\u001B[1;33m\u001B[0m\u001B[0m\n",
      "\u001B[1;31mModuleNotFoundError\u001B[0m: No module named 'pymatgen'"
     ]
    }
   ],
   "source": [
    "\n",
    "from pymatgen.ext.matproj import MPRester\n",
    "from pymatgen.io.cif import CifWriter\n",
    "with MPRester(\"AaCuMl5yxEVFLZ8n\") as m:\n",
    "    # Get information on material structure using the  \"Material Project\" id \"mp-1522\"\n",
    "    structure = m.get_structure_by_material_id(\"mp-1522\")\n",
    "\n",
    "print(structure)\n",
    "w = CifWriter(structure)\n",
    "\n",
    "# Create the working .cif file of FeS2 material\n",
    "w.write_file('FeS2_structure.cif')"
   ]
  }
 ],
 "metadata": {
  "kernelspec": {
   "display_name": "Python 3",
   "language": "python",
   "name": "python3"
  },
  "language_info": {
   "codemirror_mode": {
    "name": "ipython",
    "version": 3
   },
   "file_extension": ".py",
   "mimetype": "text/x-python",
   "name": "python",
   "nbconvert_exporter": "python",
   "pygments_lexer": "ipython3",
   "version": "3.7.1"
  }
 },
 "nbformat": 4,
 "nbformat_minor": 2
}