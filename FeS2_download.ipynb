#### Download file "symmetrized", format ".cif" from "https://materialsproject.org/materials/mp-1522/#"

from pymatgen.ext.matproj import MPRester
from pymatgen.io.cif import CifWriter
with MPRester("AaCuMl5yxEVFLZ8n") as m:
  # Get information on material structure using the  "Material Project" id "mp-1522"
  structure = m.get_structure_by_material_id("mp-1522")
  
print(structure)
w = CifWriter(structure)

# Create the working .cif file of FeS2 material
w.write_file('FeS2_structure.cif')
